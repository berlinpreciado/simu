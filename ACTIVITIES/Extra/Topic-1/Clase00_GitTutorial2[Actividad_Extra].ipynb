{
 "cells": [
  {
   "cell_type": "markdown",
   "metadata": {},
   "source": [
    "> <font color=blue>**Actividad Extra**</font>: Por parejas harán un proyecto colaborativo libre, donde se demuestre el uso básico de GitKraken con GithHub, según lo expuesto en la presente clase. \n",
    "- Se entregará un reporte en formato electrónico en el que se resuma la actividad colaborativa.\n",
    "- Complementar el reporte con screen shots, audio o video. \n",
    "- Subir el reporte a la liga de moodle\n",
    "\n",
    "\n",
    "> Fecha de entrega: Lunes 18 de Febrero (1 semana).\n",
    "\n",
    "\n",
    "\n",
    "    Actividad: ** No dejaré tarea esta vez :). La calificación será de acuerdo a que hayan seguido todos estos pasos en clase.**"
   ]
  },
  {
   "cell_type": "markdown",
   "metadata": {},
   "source": [
    "<img src=\"https://raw.githubusercontent.com/louim/in-case-of-fire/master/in_case_of_fire.png\" title=\"In case of fire (https://github.com/louim/in-case-of-fire)\" width=\"200\" height=\"50\" align=\"center\">"
   ]
  },
  {
   "cell_type": "markdown",
   "metadata": {},
   "source": [
    "<script>\n",
    "  $(document).ready(function(){\n",
    "    $('div.prompt').hide();\n",
    "    $('div.back-to-top').hide();\n",
    "    $('nav#menubar').hide();\n",
    "    $('.breadcrumb').hide();\n",
    "    $('.hidden-print').hide();\n",
    "  });\n",
    "</script>\n",
    "\n",
    "<footer id=\"attribution\" style=\"float:right; color:#808080; background:#fff;\">\n",
    "Created with Jupyter by Esteban Jiménez Rodríguez Modified by Alberto Arjona Cabrera.\n",
    "</footer>"
   ]
  }
 ],
 "metadata": {
  "anaconda-cloud": {},
  "kernelspec": {
   "display_name": "Python 3",
   "language": "python",
   "name": "python3"
  },
  "language_info": {
   "codemirror_mode": {
    "name": "ipython",
    "version": 3
   },
   "file_extension": ".py",
   "mimetype": "text/x-python",
   "name": "python",
   "nbconvert_exporter": "python",
   "pygments_lexer": "ipython3",
   "version": "3.7.1"
  }
 },
 "nbformat": 4,
 "nbformat_minor": 1
}
