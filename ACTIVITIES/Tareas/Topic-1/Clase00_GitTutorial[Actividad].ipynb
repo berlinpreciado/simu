{
 "cells": [
  {
   "cell_type": "markdown",
   "metadata": {},
   "source": [
    "### Receta\n",
    "\n",
    "1. Descargar e instalar `GitKraken`.\n",
    "2. Abrir `GitKraken`. Cuando nos pida autenticación, nos autenticamos con la cuenta existente de `GitHub`.\n",
    "3. Ir a la pestaña superior derecha de *Preferences* para ver *Profiles* (por defecto el de GitHub) y *Authentication*.\n",
    "    - En *Authentication*, como estamos autenticados con `GitHub` ya deberíamos estar conectados.\n",
    "    - Picarle en *Generate SSH key and add to GitHub*. Esto nos ahorrará estarnos autenticando en `GitHub` para cuando queramos actualizar el repositorio remoto.\n",
    "    - En la parte superior izquierda picarle en *Exit Preferences*.\n",
    "4. Picarle a la carpeta en la esquina superior izquierda. Tres opciones:\n",
    "    - *Open*: abrir un repositorio local ya existente.\n",
    "    - ** *Clone*: clonar un repositorio remoto.**\n",
    "    - *Init*: empezar a hacer control de versiones en un proyecto desde cero.\n",
    "5. Picarle en *Clone*. Como ya estamos autenticados en `GitHub`, aparecerán todos los repositorios disponibles en nuestra cuenta de `GitHub` (en este caso solo tendremos `hello-world`).\n",
    "    - En *Browse*, buscar el directorio/carpeta donde quieren que el repositorio sea clonado.\n",
    "    - Picar en `hello-world`.\n",
    "    - Picar en *Clone the repo*.\n",
    "6. Abrir el directorio `hello-world`, modificar el archivo `README.md` y guardar los cambios.\n",
    "    - Cuando volvamos a `GitKraken`, veremos que se ha actualizado la modificación.\n",
    "    - Picamos en el paso de la actualización y en la derecha veremos el archivo modificado.\n",
    "    - Picamos en `README.md` y podremos ver la modificación que hicimos en el archivo.\n",
    "    - Antes de llevar a cabo los cambios, ir al repositorio remoto en `GitHub` y ver que el archivo `README.md` no se ha modificado. Solo clonamos los archivos en el repositorio local.\n",
    "    - Volvemos a `GitKraken`, picamos en *Stage file* y comentamos los cambios.\n",
    "    - Picar en *Commit*.\n",
    "7. Revisar el arbol de cambios. Hay un ícono que revela hasta donde están los cambios en `GitHub` y el otro revela que vamos un paso más adelante en el repositorio local. Este cambio aún no se hace en el repositorio remoto en `GitHub`.\n",
    "8. Para sincronizar los cambios en el repositorio de `GitHub` debemos picar en *Push* en la parte superior. Los íconos deberían juntarse.\n",
    "9. Ir a `GitHub` y ver que el cambio en efecto se realizó."
   ]
  },
  {
   "cell_type": "markdown",
   "metadata": {},
   "source": [
    "<img src=\"https://raw.githubusercontent.com/louim/in-case-of-fire/master/in_case_of_fire.png\" title=\"In case of fire (https://github.com/louim/in-case-of-fire)\" width=\"200\" height=\"50\" align=\"center\">"
   ]
  },
  {
   "cell_type": "markdown",
   "metadata": {},
   "source": [
    "<script>\n",
    "  $(document).ready(function(){\n",
    "    $('div.prompt').hide();\n",
    "    $('div.back-to-top').hide();\n",
    "    $('nav#menubar').hide();\n",
    "    $('.breadcrumb').hide();\n",
    "    $('.hidden-print').hide();\n",
    "  });\n",
    "</script>\n",
    "\n",
    "<footer id=\"attribution\" style=\"float:right; color:#808080; background:#fff;\">\n",
    "Created with Jupyter by Xiuhcoatl\n",
    "</footer>"
   ]
  }
 ],
 "metadata": {
  "kernelspec": {
   "display_name": "Python 3",
   "language": "python",
   "name": "python3"
  },
  "language_info": {
   "codemirror_mode": {
    "name": "ipython",
    "version": 3
   },
   "file_extension": ".py",
   "mimetype": "text/x-python",
   "name": "python",
   "nbconvert_exporter": "python",
   "pygments_lexer": "ipython3",
   "version": "3.7.1"
  }
 },
 "nbformat": 4,
 "nbformat_minor": 1
}
